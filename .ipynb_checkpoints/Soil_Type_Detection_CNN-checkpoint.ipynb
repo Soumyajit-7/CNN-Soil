{
 "cells": [
  {
   "cell_type": "code",
   "execution_count": 41,
   "metadata": {
    "colab": {},
    "colab_type": "code",
    "id": "sCV30xyVhFbE"
   },
   "outputs": [],
   "source": [
    "import tensorflow as tf\n",
    "from keras.preprocessing.image import ImageDataGenerator"
   ]
  },
  {
   "cell_type": "code",
   "execution_count": 42,
   "metadata": {
    "colab": {},
    "colab_type": "code",
    "id": "FIleuCAjoFD8"
   },
   "outputs": [
    {
     "data": {
      "text/plain": [
       "'2.13.0'"
      ]
     },
     "execution_count": 42,
     "metadata": {},
     "output_type": "execute_result"
    }
   ],
   "source": [
    "tf.__version__"
   ]
  },
  {
   "cell_type": "code",
   "execution_count": 43,
   "metadata": {
    "colab": {},
    "colab_type": "code",
    "id": "0koUcJMJpEBD"
   },
   "outputs": [
    {
     "name": "stdout",
     "output_type": "stream",
     "text": [
      "Found 120 images belonging to 5 classes.\n"
     ]
    }
   ],
   "source": [
    "train_datagen = ImageDataGenerator(rescale = 1./255,\n",
    "                                   shear_range = 0.2,\n",
    "                                   zoom_range = 0.2,\n",
    "                                   horizontal_flip = True)\n",
    "training_set = train_datagen.flow_from_directory('dataset/training_set',\n",
    "                                                 target_size = (64, 64),\n",
    "                                                 batch_size = 32,\n",
    "                                                 class_mode = 'categorical',\n",
    "                                                 shuffle=True,)"
   ]
  },
  {
   "cell_type": "code",
   "execution_count": 44,
   "metadata": {
    "colab": {},
    "colab_type": "code",
    "id": "SH4WzfOhpKc3"
   },
   "outputs": [
    {
     "name": "stdout",
     "output_type": "stream",
     "text": [
      "Found 35 images belonging to 5 classes.\n"
     ]
    }
   ],
   "source": [
    "test_datagen = ImageDataGenerator(rescale = 1./255)\n",
    "test_set = test_datagen.flow_from_directory('dataset/test_set',\n",
    "                                            target_size = (64, 64),\n",
    "                                            batch_size = 32,\n",
    "                                            class_mode = 'categorical')"
   ]
  },
  {
   "cell_type": "code",
   "execution_count": 45,
   "metadata": {},
   "outputs": [
    {
     "name": "stdout",
     "output_type": "stream",
     "text": [
      "Class 0: Black Soil\n",
      "Class 1: Cinder Soil\n",
      "Class 2: Laterite Soil\n",
      "Class 3: Peat Soil\n",
      "Class 4: Yellow Soil\n"
     ]
    }
   ],
   "source": [
    "class_names = list(training_set.class_indices.keys())\n",
    "for i in range(len(class_names)):\n",
    "    print(f\"Class {i}: {class_names[i]}\")"
   ]
  },
  {
   "cell_type": "code",
   "execution_count": 46,
   "metadata": {
    "colab": {},
    "colab_type": "code",
    "id": "SAUt4UMPlhLS"
   },
   "outputs": [],
   "source": [
    "cnn = tf.keras.models.Sequential()"
   ]
  },
  {
   "cell_type": "code",
   "execution_count": 47,
   "metadata": {
    "colab": {},
    "colab_type": "code",
    "id": "XPzPrMckl-hV"
   },
   "outputs": [],
   "source": [
    "cnn.add(tf.keras.layers.Conv2D(filters=32, kernel_size=3, activation='relu', input_shape=[64, 64, 3]))"
   ]
  },
  {
   "cell_type": "code",
   "execution_count": 48,
   "metadata": {
    "colab": {},
    "colab_type": "code",
    "id": "ncpqPl69mOac"
   },
   "outputs": [],
   "source": [
    "cnn.add(tf.keras.layers.MaxPool2D(pool_size=2, strides=2))"
   ]
  },
  {
   "cell_type": "code",
   "execution_count": 49,
   "metadata": {
    "colab": {},
    "colab_type": "code",
    "id": "i_-FZjn_m8gk"
   },
   "outputs": [],
   "source": [
    "cnn.add(tf.keras.layers.Conv2D(filters=32, kernel_size=3, activation='relu'))\n",
    "cnn.add(tf.keras.layers.MaxPool2D(pool_size=2, strides=2))"
   ]
  },
  {
   "cell_type": "code",
   "execution_count": 50,
   "metadata": {
    "colab": {},
    "colab_type": "code",
    "id": "6AZeOGCvnNZn"
   },
   "outputs": [],
   "source": [
    "cnn.add(tf.keras.layers.Flatten())"
   ]
  },
  {
   "cell_type": "code",
   "execution_count": 51,
   "metadata": {
    "colab": {},
    "colab_type": "code",
    "id": "8GtmUlLd26Nq"
   },
   "outputs": [],
   "source": [
    "cnn.add(tf.keras.layers.Dense(units=128, activation='relu'))"
   ]
  },
  {
   "cell_type": "code",
   "execution_count": 52,
   "metadata": {
    "colab": {},
    "colab_type": "code",
    "id": "1p_Zj1Mc3Ko_"
   },
   "outputs": [],
   "source": [
    "cnn.add(tf.keras.layers.Dense(units=5, activation='softmax'))"
   ]
  },
  {
   "cell_type": "code",
   "execution_count": 53,
   "metadata": {
    "colab": {},
    "colab_type": "code",
    "id": "NALksrNQpUlJ"
   },
   "outputs": [],
   "source": [
    "cnn.compile(optimizer = 'adam', loss = 'categorical_crossentropy', metrics = ['accuracy'])"
   ]
  },
  {
   "cell_type": "code",
   "execution_count": 54,
   "metadata": {
    "colab": {},
    "colab_type": "code",
    "id": "XUj1W4PJptta",
    "scrolled": true
   },
   "outputs": [
    {
     "name": "stdout",
     "output_type": "stream",
     "text": [
      "Epoch 1/25\n",
      "4/4 [==============================] - 1s 205ms/step - loss: 1.6240 - accuracy: 0.2000 - val_loss: 1.6177 - val_accuracy: 0.3143\n",
      "Epoch 2/25\n",
      "4/4 [==============================] - 1s 136ms/step - loss: 1.4281 - accuracy: 0.4083 - val_loss: 1.2456 - val_accuracy: 0.5714\n",
      "Epoch 3/25\n",
      "4/4 [==============================] - 0s 119ms/step - loss: 1.2076 - accuracy: 0.5417 - val_loss: 1.0745 - val_accuracy: 0.5143\n",
      "Epoch 4/25\n",
      "4/4 [==============================] - 1s 142ms/step - loss: 1.0272 - accuracy: 0.4417 - val_loss: 0.9290 - val_accuracy: 0.5714\n",
      "Epoch 5/25\n",
      "4/4 [==============================] - 1s 209ms/step - loss: 0.9511 - accuracy: 0.6083 - val_loss: 0.9470 - val_accuracy: 0.4857\n",
      "Epoch 6/25\n",
      "4/4 [==============================] - 1s 270ms/step - loss: 0.8066 - accuracy: 0.6500 - val_loss: 0.9763 - val_accuracy: 0.4857\n",
      "Epoch 7/25\n",
      "4/4 [==============================] - 1s 190ms/step - loss: 0.7979 - accuracy: 0.5250 - val_loss: 0.9915 - val_accuracy: 0.6000\n",
      "Epoch 8/25\n",
      "4/4 [==============================] - 1s 183ms/step - loss: 0.7004 - accuracy: 0.7500 - val_loss: 1.0493 - val_accuracy: 0.5143\n",
      "Epoch 9/25\n",
      "4/4 [==============================] - 1s 231ms/step - loss: 0.6946 - accuracy: 0.6583 - val_loss: 0.9877 - val_accuracy: 0.5429\n",
      "Epoch 10/25\n",
      "4/4 [==============================] - 1s 239ms/step - loss: 0.6151 - accuracy: 0.7417 - val_loss: 0.9794 - val_accuracy: 0.6000\n",
      "Epoch 11/25\n",
      "4/4 [==============================] - 1s 223ms/step - loss: 0.5183 - accuracy: 0.8417 - val_loss: 1.0484 - val_accuracy: 0.5714\n",
      "Epoch 12/25\n",
      "4/4 [==============================] - 1s 238ms/step - loss: 0.5469 - accuracy: 0.7750 - val_loss: 0.9610 - val_accuracy: 0.6286\n",
      "Epoch 13/25\n",
      "4/4 [==============================] - 1s 253ms/step - loss: 0.5052 - accuracy: 0.7833 - val_loss: 1.0605 - val_accuracy: 0.6286\n",
      "Epoch 14/25\n",
      "4/4 [==============================] - 1s 218ms/step - loss: 0.4777 - accuracy: 0.8333 - val_loss: 0.9373 - val_accuracy: 0.6857\n",
      "Epoch 15/25\n",
      "4/4 [==============================] - 1s 220ms/step - loss: 0.4331 - accuracy: 0.8583 - val_loss: 0.9673 - val_accuracy: 0.6286\n",
      "Epoch 16/25\n",
      "4/4 [==============================] - 1s 224ms/step - loss: 0.4769 - accuracy: 0.8167 - val_loss: 1.4369 - val_accuracy: 0.5714\n",
      "Epoch 17/25\n",
      "4/4 [==============================] - 1s 252ms/step - loss: 0.6033 - accuracy: 0.7167 - val_loss: 0.8863 - val_accuracy: 0.6857\n",
      "Epoch 18/25\n",
      "4/4 [==============================] - 1s 162ms/step - loss: 0.4950 - accuracy: 0.7750 - val_loss: 1.0887 - val_accuracy: 0.6571\n",
      "Epoch 19/25\n",
      "4/4 [==============================] - 1s 172ms/step - loss: 0.4100 - accuracy: 0.8333 - val_loss: 0.9818 - val_accuracy: 0.6571\n",
      "Epoch 20/25\n",
      "4/4 [==============================] - 1s 164ms/step - loss: 0.4246 - accuracy: 0.8333 - val_loss: 0.9023 - val_accuracy: 0.6571\n",
      "Epoch 21/25\n",
      "4/4 [==============================] - 1s 272ms/step - loss: 0.3684 - accuracy: 0.8500 - val_loss: 0.8736 - val_accuracy: 0.7429\n",
      "Epoch 22/25\n",
      "4/4 [==============================] - 1s 278ms/step - loss: 0.3309 - accuracy: 0.8917 - val_loss: 0.9525 - val_accuracy: 0.6857\n",
      "Epoch 23/25\n",
      "4/4 [==============================] - 1s 227ms/step - loss: 0.3908 - accuracy: 0.8250 - val_loss: 0.8086 - val_accuracy: 0.7143\n",
      "Epoch 24/25\n",
      "4/4 [==============================] - 1s 251ms/step - loss: 0.3352 - accuracy: 0.8833 - val_loss: 0.8969 - val_accuracy: 0.6571\n",
      "Epoch 25/25\n",
      "4/4 [==============================] - 1s 264ms/step - loss: 0.3030 - accuracy: 0.8750 - val_loss: 0.8053 - val_accuracy: 0.7714\n"
     ]
    },
    {
     "data": {
      "text/plain": [
       "<keras.src.callbacks.History at 0x20ed0dcf8b0>"
      ]
     },
     "execution_count": 54,
     "metadata": {},
     "output_type": "execute_result"
    }
   ],
   "source": [
    "cnn.fit(x = training_set, validation_data = test_set, epochs = 25)"
   ]
  },
  {
   "cell_type": "code",
   "execution_count": 55,
   "metadata": {
    "colab": {},
    "colab_type": "code",
    "id": "gsSiWEJY1BPB"
   },
   "outputs": [],
   "source": [
    "from tensorflow.keras.preprocessing import image\n",
    "import numpy as np\n",
    "\n",
    "\n",
    "image_path = 'dataset/8.jpg'\n",
    "img = image.load_img(image_path, target_size=(64, 64))\n",
    "img = image.img_to_array(img)\n",
    "img = np.expand_dims(img, axis=0)\n",
    "img = img / 255.0  \n"
   ]
  },
  {
   "cell_type": "code",
   "execution_count": 56,
   "metadata": {
    "colab": {},
    "colab_type": "code",
    "id": "ED9KB3I54c1i"
   },
   "outputs": [
    {
     "name": "stdout",
     "output_type": "stream",
     "text": [
      "1/1 [==============================] - 0s 73ms/step\n"
     ]
    }
   ],
   "source": [
    "# Make predictions\n",
    "predictions = cnn.predict(img)\n",
    "\n"
   ]
  },
  {
   "cell_type": "code",
   "execution_count": 57,
   "metadata": {},
   "outputs": [
    {
     "name": "stdout",
     "output_type": "stream",
     "text": [
      "Soil Type: Black Soil\n"
     ]
    }
   ],
   "source": [
    "# Interpret the predictions\n",
    "n = np.argmax(predictions)\n",
    "\n",
    "# Print the predicted class\n",
    "print(f\"Soil Type: {class_names[n]}\")"
   ]
  },
  {
   "cell_type": "code",
   "execution_count": 62,
   "metadata": {},
   "outputs": [
    {
     "name": "stdout",
     "output_type": "stream",
     "text": [
      "1/1 [==============================] - 0s 50ms/step\n",
      "C: 36.05%\n",
      "l: 17.29%\n",
      "a: 15.39%\n",
      "s: 15.89%\n",
      "s: 15.39%\n"
     ]
    }
   ],
   "source": [
    "from tensorflow.keras.preprocessing import image\n",
    "import numpy as np\n",
    "\n",
    "# Load your pre-trained CNN model\n",
    "model = cnn  # Replace with your model path\n",
    "class_names = [\"Black Soil\", \"Cinder Soil\", \"Laterite Soil\", \"Peat Soil\", \"Yellow Soil\"]  # Update with your class names\n",
    "\n",
    "image_path = 'dataset/8.jpg'\n",
    "img = image.load_img(image_path, target_size=(64, 64))\n",
    "img = image.img_to_array(img)\n",
    "img = np.expand_dims(img, axis=0)\n",
    "img = img / 255.0\n",
    "\n",
    "# Make predictions\n",
    "predictions = model.predict(img)\n",
    "\n",
    "# Use softmax to convert logits to class probabilities\n",
    "class_probabilities = np.squeeze(predictions)\n",
    "class_probabilities = np.exp(class_probabilities) / np.sum(np.exp(class_probabilities))\n",
    "\n",
    "# Print the predicted probabilities for each class\n",
    "for i, class_name in enumerate(class_names):\n",
    "    print(f\"{class_name}: {class_probabilities[i] * 100:.2f}%\")\n"
   ]
  },
  {
   "cell_type": "code",
   "execution_count": 58,
   "metadata": {},
   "outputs": [
    {
     "name": "stdout",
     "output_type": "stream",
     "text": [
      "1/1 [==============================] - 0s 23ms/step\n"
     ]
    }
   ],
   "source": [
    "import tkinter as tk\n",
    "from tkinter import filedialog\n",
    "from tkinter import messagebox\n",
    "from PIL import Image, ImageTk\n",
    "import numpy as np\n",
    "from tensorflow.keras.models import load_model\n",
    "\n",
    "\n",
    "model = cnn  \n",
    "\n",
    "def predict_image():\n",
    "    file_path = filedialog.askopenfilename()  \n",
    "    if file_path:\n",
    "        try:\n",
    "            \n",
    "            img = Image.open(file_path)\n",
    "            img = img.resize((64, 64))\n",
    "            img = np.array(img) / 255.0\n",
    "            img = np.expand_dims(img, axis=0)\n",
    "\n",
    "            \n",
    "            predictions = model.predict(img)\n",
    "            predicted_class = np.argmax(predictions)\n",
    "\n",
    "            \n",
    "            img = Image.open(file_path)\n",
    "            img = img.resize((200, 200))\n",
    "            img = ImageTk.PhotoImage(img)\n",
    "            panel = tk.Label(root, image=img)\n",
    "            panel.image = img\n",
    "            panel.grid(row=2, columnspan=2)\n",
    "\n",
    "            \n",
    "            prediction_label.config(text=f\"Predicted soil: {class_names[predicted_class]}\")\n",
    "        except Exception as e:\n",
    "            messagebox.showerror(\"Error\", f\"An error occurred: {str(e)}\")\n",
    "\n",
    "\n",
    "root = tk.Tk()\n",
    "root.title(\"Image Prediction GUI\")\n",
    "\n",
    "\n",
    "browse_button = tk.Button(root, text=\"Browse Image\", command=predict_image)\n",
    "browse_button.grid(row=0, column=0, padx=10, pady=10)\n",
    "\n",
    "\n",
    "prediction_label = tk.Label(root, text=\"Soil Type: None\")\n",
    "prediction_label.grid(row=1, columnspan=2, padx=10, pady=10)\n",
    "\n",
    "root.mainloop()\n"
   ]
  },
  {
   "cell_type": "code",
   "execution_count": 34,
   "metadata": {},
   "outputs": [
    {
     "name": "stdout",
     "output_type": "stream",
     "text": [
      "Requirement already satisfied: opencv-python in c:\\users\\asus\\appdata\\local\\programs\\python\\python310\\lib\\site-packages (4.8.0.74)\n",
      "Collecting opencv-python\n",
      "  Obtaining dependency information for opencv-python from https://files.pythonhosted.org/packages/fb/c4/f574ba6f04e6d7bf8c38d23e7a52389566dd7631fee0bcdd79ea07ef2dbf/opencv_python-4.8.0.76-cp37-abi3-win_amd64.whl.metadata\n",
      "  Using cached opencv_python-4.8.0.76-cp37-abi3-win_amd64.whl.metadata (20 kB)\n",
      "Requirement already satisfied: numpy>=1.21.2 in c:\\users\\asus\\appdata\\local\\programs\\python\\python310\\lib\\site-packages (from opencv-python) (1.23.4)\n",
      "Using cached opencv_python-4.8.0.76-cp37-abi3-win_amd64.whl (38.1 MB)\n",
      "Installing collected packages: opencv-python\n",
      "  Attempting uninstall: opencv-python\n",
      "    Found existing installation: opencv-python 4.8.0.74\n",
      "    Uninstalling opencv-python-4.8.0.74:\n",
      "      Successfully uninstalled opencv-python-4.8.0.74\n"
     ]
    },
    {
     "name": "stderr",
     "output_type": "stream",
     "text": [
      "ERROR: Could not install packages due to an OSError: [WinError 5] Access is denied: 'C:\\\\Users\\\\Asus\\\\AppData\\\\Local\\\\Temp\\\\pip-uninstall-uk1llu3m\\\\cv2.pyd'\n",
      "Consider using the `--user` option or check the permissions.\n",
      "\n"
     ]
    }
   ],
   "source": [
    "!pip install --upgrade opencv-python\n"
   ]
  },
  {
   "cell_type": "code",
   "execution_count": null,
   "metadata": {},
   "outputs": [],
   "source": []
  }
 ],
 "metadata": {
  "colab": {
   "collapsed_sections": [],
   "name": "convolutional_neural_network.ipynb",
   "provenance": [],
   "toc_visible": true
  },
  "kernelspec": {
   "display_name": "Python 3 (ipykernel)",
   "language": "python",
   "name": "python3"
  },
  "language_info": {
   "codemirror_mode": {
    "name": "ipython",
    "version": 3
   },
   "file_extension": ".py",
   "mimetype": "text/x-python",
   "name": "python",
   "nbconvert_exporter": "python",
   "pygments_lexer": "ipython3",
   "version": "3.10.5"
  }
 },
 "nbformat": 4,
 "nbformat_minor": 1
}
