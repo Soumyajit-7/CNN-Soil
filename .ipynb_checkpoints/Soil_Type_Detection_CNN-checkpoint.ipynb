{
 "cells": [
  {
   "cell_type": "markdown",
   "metadata": {
    "colab_type": "text",
    "id": "3DR-eO17geWu"
   },
   "source": [
    "# Convolutional Neural Network"
   ]
  },
  {
   "cell_type": "markdown",
   "metadata": {
    "colab_type": "text",
    "id": "EMefrVPCg-60"
   },
   "source": [
    "### Importing the libraries"
   ]
  },
  {
   "cell_type": "code",
   "execution_count": 55,
   "metadata": {
    "colab": {},
    "colab_type": "code",
    "id": "sCV30xyVhFbE"
   },
   "outputs": [],
   "source": [
    "import tensorflow as tf\n",
    "from keras.preprocessing.image import ImageDataGenerator"
   ]
  },
  {
   "cell_type": "code",
   "execution_count": 56,
   "metadata": {
    "colab": {},
    "colab_type": "code",
    "id": "FIleuCAjoFD8"
   },
   "outputs": [
    {
     "data": {
      "text/plain": [
       "'2.13.0'"
      ]
     },
     "execution_count": 56,
     "metadata": {},
     "output_type": "execute_result"
    }
   ],
   "source": [
    "tf.__version__"
   ]
  },
  {
   "cell_type": "code",
   "execution_count": 57,
   "metadata": {
    "colab": {},
    "colab_type": "code",
    "id": "0koUcJMJpEBD"
   },
   "outputs": [
    {
     "name": "stdout",
     "output_type": "stream",
     "text": [
      "Found 120 images belonging to 5 classes.\n"
     ]
    }
   ],
   "source": [
    "train_datagen = ImageDataGenerator(rescale = 1./255,\n",
    "                                   shear_range = 0.2,\n",
    "                                   zoom_range = 0.2,\n",
    "                                   horizontal_flip = True)\n",
    "training_set = train_datagen.flow_from_directory('dataset/training_set',\n",
    "                                                 target_size = (64, 64),\n",
    "                                                 batch_size = 32,\n",
    "                                                 class_mode = 'categorical',\n",
    "                                                 shuffle=True,)"
   ]
  },
  {
   "cell_type": "code",
   "execution_count": 58,
   "metadata": {
    "colab": {},
    "colab_type": "code",
    "id": "SH4WzfOhpKc3"
   },
   "outputs": [
    {
     "name": "stdout",
     "output_type": "stream",
     "text": [
      "Found 35 images belonging to 5 classes.\n"
     ]
    }
   ],
   "source": [
    "test_datagen = ImageDataGenerator(rescale = 1./255)\n",
    "test_set = test_datagen.flow_from_directory('dataset/test_set',\n",
    "                                            target_size = (64, 64),\n",
    "                                            batch_size = 32,\n",
    "                                            class_mode = 'categorical')"
   ]
  },
  {
   "cell_type": "code",
   "execution_count": 59,
   "metadata": {},
   "outputs": [
    {
     "name": "stdout",
     "output_type": "stream",
     "text": [
      "Class 0: Black Soil\n",
      "Class 1: Cinder Soil\n",
      "Class 2: Laterite Soil\n",
      "Class 3: Peat Soil\n",
      "Class 4: Yellow Soil\n"
     ]
    }
   ],
   "source": [
    "class_names = list(training_set.class_indices.keys())\n",
    "for i in range(len(class_names)):\n",
    "    print(f\"Class {i}: {class_names[i]}\")"
   ]
  },
  {
   "cell_type": "code",
   "execution_count": 60,
   "metadata": {
    "colab": {},
    "colab_type": "code",
    "id": "SAUt4UMPlhLS"
   },
   "outputs": [],
   "source": [
    "cnn = tf.keras.models.Sequential()"
   ]
  },
  {
   "cell_type": "code",
   "execution_count": 61,
   "metadata": {
    "colab": {},
    "colab_type": "code",
    "id": "XPzPrMckl-hV"
   },
   "outputs": [],
   "source": [
    "cnn.add(tf.keras.layers.Conv2D(filters=32, kernel_size=3, activation='relu', input_shape=[64, 64, 3]))"
   ]
  },
  {
   "cell_type": "code",
   "execution_count": 62,
   "metadata": {
    "colab": {},
    "colab_type": "code",
    "id": "ncpqPl69mOac"
   },
   "outputs": [],
   "source": [
    "cnn.add(tf.keras.layers.MaxPool2D(pool_size=2, strides=2))"
   ]
  },
  {
   "cell_type": "code",
   "execution_count": 63,
   "metadata": {
    "colab": {},
    "colab_type": "code",
    "id": "i_-FZjn_m8gk"
   },
   "outputs": [],
   "source": [
    "cnn.add(tf.keras.layers.Conv2D(filters=32, kernel_size=3, activation='relu'))\n",
    "cnn.add(tf.keras.layers.MaxPool2D(pool_size=2, strides=2))"
   ]
  },
  {
   "cell_type": "code",
   "execution_count": 64,
   "metadata": {
    "colab": {},
    "colab_type": "code",
    "id": "6AZeOGCvnNZn"
   },
   "outputs": [],
   "source": [
    "cnn.add(tf.keras.layers.Flatten())"
   ]
  },
  {
   "cell_type": "code",
   "execution_count": 65,
   "metadata": {
    "colab": {},
    "colab_type": "code",
    "id": "8GtmUlLd26Nq"
   },
   "outputs": [],
   "source": [
    "cnn.add(tf.keras.layers.Dense(units=128, activation='relu'))"
   ]
  },
  {
   "cell_type": "code",
   "execution_count": 66,
   "metadata": {
    "colab": {},
    "colab_type": "code",
    "id": "1p_Zj1Mc3Ko_"
   },
   "outputs": [],
   "source": [
    "cnn.add(tf.keras.layers.Dense(units=5, activation='softmax'))"
   ]
  },
  {
   "cell_type": "code",
   "execution_count": 67,
   "metadata": {
    "colab": {},
    "colab_type": "code",
    "id": "NALksrNQpUlJ"
   },
   "outputs": [],
   "source": [
    "cnn.compile(optimizer = 'adam', loss = 'categorical_crossentropy', metrics = ['accuracy'])"
   ]
  },
  {
   "cell_type": "code",
   "execution_count": 68,
   "metadata": {
    "colab": {},
    "colab_type": "code",
    "id": "XUj1W4PJptta"
   },
   "outputs": [
    {
     "name": "stdout",
     "output_type": "stream",
     "text": [
      "Epoch 1/25\n",
      "4/4 [==============================] - 1s 174ms/step - loss: 1.6307 - accuracy: 0.2500 - val_loss: 1.4523 - val_accuracy: 0.3714\n",
      "Epoch 2/25\n",
      "4/4 [==============================] - 0s 102ms/step - loss: 1.4004 - accuracy: 0.4833 - val_loss: 1.2191 - val_accuracy: 0.5714\n",
      "Epoch 3/25\n",
      "4/4 [==============================] - 0s 107ms/step - loss: 1.1429 - accuracy: 0.5417 - val_loss: 0.9478 - val_accuracy: 0.5714\n",
      "Epoch 4/25\n",
      "4/4 [==============================] - 0s 101ms/step - loss: 0.8938 - accuracy: 0.5500 - val_loss: 0.9929 - val_accuracy: 0.5714\n",
      "Epoch 5/25\n",
      "4/4 [==============================] - 0s 104ms/step - loss: 0.7606 - accuracy: 0.7583 - val_loss: 0.9303 - val_accuracy: 0.6571\n",
      "Epoch 6/25\n",
      "4/4 [==============================] - 0s 101ms/step - loss: 0.7228 - accuracy: 0.7000 - val_loss: 0.9843 - val_accuracy: 0.5143\n",
      "Epoch 7/25\n",
      "4/4 [==============================] - 0s 107ms/step - loss: 0.6430 - accuracy: 0.7250 - val_loss: 1.1937 - val_accuracy: 0.4857\n",
      "Epoch 8/25\n",
      "4/4 [==============================] - 0s 106ms/step - loss: 0.5718 - accuracy: 0.7750 - val_loss: 1.1450 - val_accuracy: 0.5429\n",
      "Epoch 9/25\n",
      "4/4 [==============================] - 0s 121ms/step - loss: 0.5344 - accuracy: 0.8083 - val_loss: 0.8540 - val_accuracy: 0.6571\n",
      "Epoch 10/25\n",
      "4/4 [==============================] - 1s 124ms/step - loss: 0.5413 - accuracy: 0.8000 - val_loss: 1.6439 - val_accuracy: 0.4286\n",
      "Epoch 11/25\n",
      "4/4 [==============================] - 1s 122ms/step - loss: 0.6007 - accuracy: 0.7833 - val_loss: 0.8776 - val_accuracy: 0.7143\n",
      "Epoch 12/25\n",
      "4/4 [==============================] - 1s 124ms/step - loss: 0.4956 - accuracy: 0.8167 - val_loss: 1.2393 - val_accuracy: 0.5429\n",
      "Epoch 13/25\n",
      "4/4 [==============================] - 1s 123ms/step - loss: 0.4335 - accuracy: 0.8333 - val_loss: 0.8974 - val_accuracy: 0.7143\n",
      "Epoch 14/25\n",
      "4/4 [==============================] - 0s 106ms/step - loss: 0.4584 - accuracy: 0.8167 - val_loss: 0.9271 - val_accuracy: 0.6571\n",
      "Epoch 15/25\n",
      "4/4 [==============================] - 0s 105ms/step - loss: 0.3632 - accuracy: 0.8917 - val_loss: 1.0502 - val_accuracy: 0.7143\n",
      "Epoch 16/25\n",
      "4/4 [==============================] - 0s 110ms/step - loss: 0.3739 - accuracy: 0.8667 - val_loss: 0.7657 - val_accuracy: 0.7429\n",
      "Epoch 17/25\n",
      "4/4 [==============================] - 0s 124ms/step - loss: 0.2843 - accuracy: 0.9167 - val_loss: 1.2371 - val_accuracy: 0.7143\n",
      "Epoch 18/25\n",
      "4/4 [==============================] - 0s 108ms/step - loss: 0.2962 - accuracy: 0.9000 - val_loss: 0.8084 - val_accuracy: 0.7714\n",
      "Epoch 19/25\n",
      "4/4 [==============================] - 0s 105ms/step - loss: 0.2770 - accuracy: 0.8917 - val_loss: 1.0122 - val_accuracy: 0.7143\n",
      "Epoch 20/25\n",
      "4/4 [==============================] - 0s 99ms/step - loss: 0.2282 - accuracy: 0.9333 - val_loss: 0.8945 - val_accuracy: 0.6857\n",
      "Epoch 21/25\n",
      "4/4 [==============================] - 0s 106ms/step - loss: 0.2890 - accuracy: 0.9000 - val_loss: 1.3090 - val_accuracy: 0.6857\n",
      "Epoch 22/25\n",
      "4/4 [==============================] - 0s 99ms/step - loss: 0.2585 - accuracy: 0.9167 - val_loss: 0.7709 - val_accuracy: 0.7429\n",
      "Epoch 23/25\n",
      "4/4 [==============================] - 0s 105ms/step - loss: 0.2619 - accuracy: 0.8917 - val_loss: 1.0378 - val_accuracy: 0.6857\n",
      "Epoch 24/25\n",
      "4/4 [==============================] - 0s 111ms/step - loss: 0.2386 - accuracy: 0.9417 - val_loss: 1.0711 - val_accuracy: 0.6571\n",
      "Epoch 25/25\n",
      "4/4 [==============================] - 0s 108ms/step - loss: 0.1937 - accuracy: 0.9333 - val_loss: 0.9693 - val_accuracy: 0.7143\n"
     ]
    },
    {
     "data": {
      "text/plain": [
       "<keras.src.callbacks.History at 0x1e0b7a68d90>"
      ]
     },
     "execution_count": 68,
     "metadata": {},
     "output_type": "execute_result"
    }
   ],
   "source": [
    "cnn.fit(x = training_set, validation_data = test_set, epochs = 25)"
   ]
  },
  {
   "cell_type": "markdown",
   "metadata": {
    "colab_type": "text",
    "id": "U3PZasO0006Z"
   },
   "source": []
  },
  {
   "cell_type": "code",
   "execution_count": 69,
   "metadata": {
    "colab": {},
    "colab_type": "code",
    "id": "gsSiWEJY1BPB"
   },
   "outputs": [],
   "source": [
    "from tensorflow.keras.preprocessing import image\n",
    "import numpy as np\n",
    "\n",
    "\n",
    "image_path = 'dataset/8.jpg'\n",
    "img = image.load_img(image_path, target_size=(64, 64))\n",
    "img = image.img_to_array(img)\n",
    "img = np.expand_dims(img, axis=0)\n",
    "img = img / 255.0  \n"
   ]
  },
  {
   "cell_type": "code",
   "execution_count": 70,
   "metadata": {
    "colab": {},
    "colab_type": "code",
    "id": "ED9KB3I54c1i"
   },
   "outputs": [
    {
     "name": "stdout",
     "output_type": "stream",
     "text": [
      "1/1 [==============================] - 0s 66ms/step\n"
     ]
    }
   ],
   "source": [
    "# Make predictions\n",
    "predictions = cnn.predict(img)\n",
    "\n"
   ]
  },
  {
   "cell_type": "code",
   "execution_count": 71,
   "metadata": {},
   "outputs": [
    {
     "name": "stdout",
     "output_type": "stream",
     "text": [
      "Soil Type: Black Soil\n"
     ]
    }
   ],
   "source": [
    "# Interpret the predictions\n",
    "n = np.argmax(predictions)\n",
    "\n",
    "# Print the predicted class\n",
    "print(f\"Soil Type: {class_names[n]}\")"
   ]
  },
  {
   "cell_type": "code",
   "execution_count": 76,
   "metadata": {},
   "outputs": [
    {
     "name": "stdout",
     "output_type": "stream",
     "text": [
      "1/1 [==============================] - 0s 21ms/step\n",
      "1/1 [==============================] - 0s 20ms/step\n"
     ]
    }
   ],
   "source": [
    "import tkinter as tk\n",
    "from tkinter import filedialog\n",
    "from tkinter import messagebox\n",
    "from PIL import Image, ImageTk\n",
    "import numpy as np\n",
    "from tensorflow.keras.models import load_model\n",
    "\n",
    "\n",
    "model = cnn  \n",
    "\n",
    "def predict_image():\n",
    "    file_path = filedialog.askopenfilename()  \n",
    "    if file_path:\n",
    "        try:\n",
    "            \n",
    "            img = Image.open(file_path)\n",
    "            img = img.resize((64, 64))\n",
    "            img = np.array(img) / 255.0\n",
    "            img = np.expand_dims(img, axis=0)\n",
    "\n",
    "            \n",
    "            predictions = model.predict(img)\n",
    "            predicted_class = np.argmax(predictions)\n",
    "\n",
    "            \n",
    "            img = Image.open(file_path)\n",
    "            img = img.resize((200, 200))\n",
    "            img = ImageTk.PhotoImage(img)\n",
    "            panel = tk.Label(root, image=img)\n",
    "            panel.image = img\n",
    "            panel.grid(row=2, columnspan=2)\n",
    "\n",
    "            \n",
    "            prediction_label.config(text=f\"Predicted Class: {class_names[predicted_class]}\")\n",
    "        except Exception as e:\n",
    "            messagebox.showerror(\"Error\", f\"An error occurred: {str(e)}\")\n",
    "\n",
    "\n",
    "root = tk.Tk()\n",
    "root.title(\"Image Prediction GUI\")\n",
    "\n",
    "\n",
    "browse_button = tk.Button(root, text=\"Browse Image\", command=predict_image)\n",
    "browse_button.grid(row=0, column=0, padx=10, pady=10)\n",
    "\n",
    "\n",
    "prediction_label = tk.Label(root, text=\"Soil Type: None\")\n",
    "prediction_label.grid(row=1, columnspan=2, padx=10, pady=10)\n",
    "\n",
    "root.mainloop()\n"
   ]
  }
 ],
 "metadata": {
  "colab": {
   "collapsed_sections": [],
   "name": "convolutional_neural_network.ipynb",
   "provenance": [],
   "toc_visible": true
  },
  "kernelspec": {
   "display_name": "Python 3 (ipykernel)",
   "language": "python",
   "name": "python3"
  },
  "language_info": {
   "codemirror_mode": {
    "name": "ipython",
    "version": 3
   },
   "file_extension": ".py",
   "mimetype": "text/x-python",
   "name": "python",
   "nbconvert_exporter": "python",
   "pygments_lexer": "ipython3",
   "version": "3.10.5"
  }
 },
 "nbformat": 4,
 "nbformat_minor": 1
}
